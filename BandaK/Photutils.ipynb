{
 "cells": [
  {
   "cell_type": "code",
   "execution_count": 1,
   "metadata": {
    "collapsed": true
   },
   "outputs": [],
   "source": [
    "from astropy.io import ascii"
   ]
  },
  {
   "cell_type": "code",
   "execution_count": 2,
   "metadata": {
    "collapsed": true
   },
   "outputs": [],
   "source": [
    "a2744coord = ascii.read(\"a2744\")\n",
    "m0416coord = ascii.read(\"m0416\")"
   ]
  },
  {
   "cell_type": "code",
   "execution_count": 3,
   "metadata": {
    "collapsed": true
   },
   "outputs": [],
   "source": [
    "def extrac(cat):\n",
    "    RA,DEC=[],[]\n",
    "    for i in cat:\n",
    "        RA.append(i[1])\n",
    "        DEC.append(i[2])\n",
    "    return RA,DEC\n",
    "\n",
    "def sextrac(cat):\n",
    "    RA,DEC=[],[]\n",
    "    for i in cat:\n",
    "        RA.append(i[7])\n",
    "        DEC.append(i[8])\n",
    "    return RA,DEC   "
   ]
  },
  {
   "cell_type": "code",
   "execution_count": 4,
   "metadata": {
    "collapsed": true
   },
   "outputs": [],
   "source": [
    "RAa2744,DECa2744=extrac(a2744coord)\n",
    "RAm0416,DECm0416=extrac(m0416coord)"
   ]
  },
  {
   "cell_type": "code",
   "execution_count": 16,
   "metadata": {
    "collapsed": false
   },
   "outputs": [],
   "source": [
    "#WCS to PIxel\n",
    "from astropy.wcs import WCS\n",
    "\n",
    "a2744wcs = WCS('a2744.fits')\n",
    "a2744pix=[]\n",
    "\n",
    "\n",
    "for i in range(0,len(RAa2744)):\n",
    "    RAa, DECa = a2744wcs.wcs_world2pix(RAa2744[i], DECa2744[i],0)\n",
    "    x=(float(RAa),float(DECa))\n",
    "    a2744pix.append(x)\n"
   ]
  },
  {
   "cell_type": "code",
   "execution_count": 17,
   "metadata": {
    "collapsed": false
   },
   "outputs": [],
   "source": [
    "m0416wcs=WCS(\"m0416.fits\")\n",
    "m0416pix=[]\n",
    "\n",
    "for i in range(0,len(RAm0416)):\n",
    "    RAm, DECm = m0416wcs.wcs_world2pix(RAm0416[i], DECm0416[i],0)\n",
    "    x=[float(RAm),float(DECm)]\n",
    "    m0416pix.append(x)\n"
   ]
  },
  {
   "cell_type": "code",
   "execution_count": 18,
   "metadata": {
    "collapsed": true
   },
   "outputs": [],
   "source": [
    "from astropy.io import fits\n",
    "hdulist = fits.open('a2744.fits')\n",
    "dataa2744=hdulist[0].data"
   ]
  },
  {
   "cell_type": "code",
   "execution_count": 24,
   "metadata": {
    "collapsed": false
   },
   "outputs": [],
   "source": [
    "from photutils import CircularAperture\n",
    "from photutils import aperture_photometry"
   ]
  },
  {
   "cell_type": "code",
   "execution_count": 26,
   "metadata": {
    "collapsed": false,
    "scrolled": true
   },
   "outputs": [
    {
     "name": "stdout",
     "output_type": "stream",
     "text": [
      " id    xcenter       ycenter     aperture_sum \n",
      "         pix           pix                    \n",
      "--- ------------- ------------- --------------\n",
      "  1 1314.89444792 3768.14174706 0.892832078652\n",
      " id    xcenter       ycenter      aperture_sum \n",
      "         pix           pix                     \n",
      "--- ------------- ------------- ---------------\n",
      "  2 2288.61753456 2639.57932532 -0.268146348266\n",
      " id   xcenter       ycenter     aperture_sum \n",
      "        pix           pix                    \n",
      "--- ------------ ------------- --------------\n",
      "  3 1315.5911442 2546.40920809 -1.18106715547\n",
      " id    xcenter       ycenter      aperture_sum  \n",
      "         pix           pix                      \n",
      "--- ------------- ------------- ----------------\n",
      "  4 1314.65404779 3755.18158799 -0.0377792725966\n",
      " id    xcenter       ycenter     aperture_sum \n",
      "         pix           pix                    \n",
      "--- ------------- ------------- --------------\n",
      "  5 2072.02061901 3601.88635477 0.329366858306\n",
      " id    xcenter       ycenter       aperture_sum  \n",
      "         pix           pix                       \n",
      "--- ------------- ------------- -----------------\n",
      "  6 1310.27611536 3753.59486532 -0.00156997914998\n",
      " id    xcenter       ycenter     aperture_sum\n",
      "         pix           pix                   \n",
      "--- ------------- ------------- -------------\n",
      "  7 1329.15707361 3755.51456492 0.73088547481\n",
      " id    xcenter       ycenter     aperture_sum \n",
      "         pix           pix                    \n",
      "--- ------------- ------------- --------------\n",
      "  8 1555.96921535 3626.91109614 0.485872104711\n",
      " id    xcenter       ycenter      aperture_sum \n",
      "         pix           pix                     \n",
      "--- ------------- ------------- ---------------\n",
      "  9 2276.60751788 2625.49916049 -0.551605018911\n",
      " id    xcenter       ycenter     aperture_sum \n",
      "         pix           pix                    \n",
      "--- ------------- ------------- --------------\n",
      " 10 1493.41590856 3750.68005708 0.776903794598\n",
      " id    xcenter       ycenter     aperture_sum \n",
      "         pix           pix                    \n",
      "--- ------------- ------------- --------------\n",
      " 11 1405.60675036 3147.41247861 -1.07285212895\n",
      " id    xcenter      ycenter      aperture_sum \n",
      "         pix          pix                     \n",
      "--- ------------- ------------ ---------------\n",
      " 12 1323.41582641 3748.8150135 -0.486737709815\n",
      " id    xcenter       ycenter     aperture_sum \n",
      "         pix           pix                    \n",
      "--- ------------- ------------- --------------\n",
      " 13 1294.24074034 3819.71690171 0.682686737315\n",
      " id    xcenter       ycenter      aperture_sum \n",
      "         pix           pix                     \n",
      "--- ------------- ------------- ---------------\n",
      " 14 1233.47480393 3800.92227532 0.0838441649636\n",
      " id   xcenter       ycenter     aperture_sum \n",
      "        pix           pix                    \n",
      "--- ------------ ------------- --------------\n",
      " 15 1271.1686468 3814.87836133 -1.15411347079\n",
      " id    xcenter       ycenter     aperture_sum\n",
      "         pix           pix                   \n",
      "--- ------------- ------------- -------------\n",
      " 16 1776.67501163 3885.14623422 5.89678220395\n",
      " id   xcenter       ycenter     aperture_sum\n",
      "        pix           pix                   \n",
      "--- ------------ ------------- -------------\n",
      " 17 1230.4297511 3803.26031474 0.20952257706\n",
      " id    xcenter       ycenter     aperture_sum \n",
      "         pix           pix                    \n",
      "--- ------------- ------------- --------------\n",
      " 18 1674.76970106 2760.13025273 -3.32358278728\n",
      " id    xcenter       ycenter     aperture_sum \n",
      "         pix           pix                    \n",
      "--- ------------- ------------- --------------\n",
      " 19 2066.32942363 3164.69990228 0.161058113371\n",
      " id    xcenter       ycenter     aperture_sum \n",
      "         pix           pix                    \n",
      "--- ------------- ------------- --------------\n",
      " 20 1335.64944559 2743.48579548 0.588565400378\n",
      " id    xcenter       ycenter     aperture_sum \n",
      "         pix           pix                    \n",
      "--- ------------- ------------- --------------\n",
      " 21 2016.29718014 2965.63507661 0.199918940779\n",
      " id    xcenter       ycenter     aperture_sum\n",
      "         pix           pix                   \n",
      "--- ------------- ------------- -------------\n",
      " 22 1890.78677926 3190.32797478 30.9910280653\n",
      " id    xcenter       ycenter      aperture_sum \n",
      "         pix           pix                     \n",
      "--- ------------- ------------- ---------------\n",
      " 23 5323.18865043 4464.11976509 -0.641181209129\n",
      " id   xcenter      ycenter     aperture_sum \n",
      "        pix          pix                    \n",
      "--- ----------- ------------- --------------\n",
      " 24 5141.639734 4154.71694255 0.364919371142\n",
      " id    xcenter       ycenter     aperture_sum\n",
      "         pix           pix                   \n",
      "--- ------------- ------------- -------------\n",
      " 25 4926.40226812 4399.43089051 1.18469953782\n",
      " id    xcenter      ycenter     aperture_sum\n",
      "         pix          pix                   \n",
      "--- ------------- ------------ -------------\n",
      " 26 4884.07114802 3310.4474212 2.84257289857\n",
      " id    xcenter      ycenter      aperture_sum  \n",
      "         pix          pix                      \n",
      "--- ------------- ------------ ----------------\n",
      " 27 5082.37166362 4140.9200884 -0.0580238788268\n",
      " id    xcenter       ycenter      aperture_sum \n",
      "         pix           pix                     \n",
      "--- ------------- ------------- ---------------\n",
      " 28 5038.17460592 3219.59133393 -0.403567820529\n",
      " id   xcenter      ycenter      aperture_sum \n",
      "        pix          pix                     \n",
      "--- ------------ ------------ ---------------\n",
      " 29 5546.7398261 3228.1160082 -0.405917220576\n",
      " id    xcenter       ycenter      aperture_sum \n",
      "         pix           pix                     \n",
      "--- ------------- ------------- ---------------\n",
      " 30 5561.99448193 3560.09931291 -0.984959683405\n",
      " id    xcenter       ycenter      aperture_sum \n",
      "         pix           pix                     \n",
      "--- ------------- ------------- ---------------\n",
      " 31 4865.49554176 3134.12663348 -0.013677812714\n",
      " id    xcenter       ycenter     aperture_sum\n",
      "         pix           pix                   \n",
      "--- ------------- ------------- -------------\n",
      " 32 5594.17799766 3318.05212982 0.35226465483\n",
      " id    xcenter      ycenter    aperture_sum\n",
      "         pix          pix                  \n",
      "--- ------------- ----------- -------------\n",
      " 33 5764.65410129 4329.151299 4.07415377569\n",
      " id    xcenter       ycenter      aperture_sum \n",
      "         pix           pix                     \n",
      "--- ------------- ------------- ---------------\n",
      " 34 5911.97655441 4327.64942336 -0.161061932201\n",
      " id    xcenter       ycenter     aperture_sum \n",
      "         pix           pix                    \n",
      "--- ------------- ------------- --------------\n",
      " 35 4908.83315202 4274.01390905 0.622732455071\n",
      " id    xcenter       ycenter     aperture_sum \n",
      "         pix           pix                    \n",
      "--- ------------- ------------- --------------\n",
      " 36 4944.11504383 3132.25920743 0.278032394429\n",
      " id    xcenter       ycenter     aperture_sum\n",
      "         pix           pix                   \n",
      "--- ------------- ------------- -------------\n",
      " 37 5247.10171907 3621.03788801 1.25425442434\n",
      " id    xcenter       ycenter     aperture_sum \n",
      "         pix           pix                    \n",
      "--- ------------- ------------- --------------\n",
      " 38 5319.58608171 4465.41763015 -0.37957065872\n",
      " id    xcenter       ycenter    aperture_sum\n",
      "         pix           pix                  \n",
      "--- ------------- ------------- ------------\n",
      " 39 5806.31372034 4291.68421079 1.6344387299\n"
     ]
    }
   ],
   "source": [
    "apertures = CircularAperture(a2744pix, r=10.)\n",
    "phot_table = aperture_photometry(dataa2744, apertures)\n",
    "for i in phot_table:\n",
    "    print i"
   ]
  },
  {
   "cell_type": "code",
   "execution_count": null,
   "metadata": {
    "collapsed": true
   },
   "outputs": [],
   "source": []
  },
  {
   "cell_type": "code",
   "execution_count": null,
   "metadata": {
    "collapsed": true
   },
   "outputs": [],
   "source": []
  }
 ],
 "metadata": {
  "kernelspec": {
   "display_name": "Python 2",
   "language": "python",
   "name": "python2"
  },
  "language_info": {
   "codemirror_mode": {
    "name": "ipython",
    "version": 2
   },
   "file_extension": ".py",
   "mimetype": "text/x-python",
   "name": "python",
   "nbconvert_exporter": "python",
   "pygments_lexer": "ipython2",
   "version": "2.7.11"
  }
 },
 "nbformat": 4,
 "nbformat_minor": 0
}
